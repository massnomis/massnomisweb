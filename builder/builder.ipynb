{
 "cells": [
  {
   "cell_type": "code",
   "execution_count": 1,
   "metadata": {},
   "outputs": [
    {
     "name": "stdout",
     "output_type": "stream",
     "text": [
      "file_name = file1.py\n",
      "file_name = sladermiddec.py\n",
      "query_id = 075d7fe8-74d0-458d-a608-a04e348b225f\n"
     ]
    }
   ],
   "source": [
    "import json\n",
    "import pandas as pd\n",
    "import os\n",
    "print(\"file_name = file1.py\")\n",
    "file_name = input(\"file_name\")\n",
    "print(\"file_name = \" + file_name)\n",
    "query_id = input(\"api/query_id\")\n",
    "print(\"query_id = \" + query_id)\n",
    "\n"
   ]
  },
  {
   "cell_type": "code",
   "execution_count": 9,
   "metadata": {},
   "outputs": [
    {
     "name": "stdout",
     "output_type": "stream",
     "text": [
      "COUNT(DISTINCT(SENDER))\n",
      "DAYZ\n",
      "LUNA\n",
      "XLUNA\n"
     ]
    }
   ],
   "source": [
    "    query_id = query_id\n",
    "    df = pd.read_json(\n",
    "        f\"https://api.flipsidecrypto.com/api/v2/queries/{query_id}/data/latest\",\n",
    "        convert_dates=[\"TIMESTAMP_NTZ\"],\n",
    "    )\n",
    "    for col in df.columns:\n",
    "        print(col)\n",
    "  "
   ]
  },
  {
   "cell_type": "code",
   "execution_count": 10,
   "metadata": {},
   "outputs": [
    {
     "name": "stdout",
     "output_type": "stream",
     "text": [
      "chart types are: bar, scatter, line\n",
      "chart_type = bar\n",
      "x = DAYZ\n",
      "y = COUNT(DISTINCT(SENDER))\n",
      "input = kgjf\n"
     ]
    }
   ],
   "source": [
    "print(\"chart types are: bar, scatter, line\")\n",
    "chart_type = input(\"chart_type\")\n",
    "print(\"chart_type = \" + chart_type)\n",
    "x = input(\"x\")\n",
    "print(\"x = \" + x)\n",
    "y = input(\"y\")\n",
    "print(\"y = \" + y)\n",
    "title = input(\"title\") \n",
    "print(\"input = \" + title)\n",
    "\n"
   ]
  },
  {
   "cell_type": "code",
   "execution_count": null,
   "metadata": {},
   "outputs": [],
   "source": [
    "\n",
    "\n",
    "\n"
   ]
  },
  {
   "cell_type": "code",
   "execution_count": 11,
   "metadata": {},
   "outputs": [
    {
     "name": "stdout",
     "output_type": "stream",
     "text": [
      "import streamlit as st\n",
      "from extra import file3\n",
      "app = MultiApp()\n",
      "st.set_page_config(layout=\"wide\")\n",
      "st.markdown(\"\"\"\n",
      "# \n",
      "\"\"\")\n"
     ]
    }
   ],
   "source": [
    "file3 = \"yeet\"\n",
    "MultiApp = \" file3\"\n",
    "file1_init = '''import streamlit as st\n",
    "''' + '''from extra import''' + MultiApp\n",
    "\n",
    "file1_middle_bs = '''app = MultiApp()\n",
    "st.set_page_config(layout=\"wide\")\n",
    "st.markdown(\"\"\"\n",
    "# \n",
    "\"\"\")'''\n",
    "beggining_file2 = file1_init + '''\n",
    "''' + file1_middle_bs\n",
    "print(beggining_file2)"
   ]
  },
  {
   "cell_type": "code",
   "execution_count": 16,
   "metadata": {},
   "outputs": [],
   "source": [
    "\n",
    "with open(\"file2.py\") as f:\n",
    "    lines = f.readlines()\n",
    "with open(\"file2.py\", \"w\") as f:\n",
    "    lines.insert(0, beggining_file2)\n",
    "    f.write(\"\\n\".join(lines))\n",
    "\n"
   ]
  },
  {
   "cell_type": "code",
   "execution_count": 20,
   "metadata": {},
   "outputs": [],
   "source": [
    "\n",
    "app_add_app = (\"app.add_app(\" + \"\\\"\" + file_name +  \"\\\"\" + \",\" + file_name + \".app)\")\n",
    "app_from_apps_import = \"import \" + file_name\n",
    "with open(\"file2.py\") as f:\n",
    "    lines = f.readlines()\n",
    "with open(\"file2.py\", \"w\") as f:\n",
    "    lines.insert(14, app_add_app)\n",
    "    f.write(\"\\n\".join(lines))\n",
    "\n",
    "# + \"\\\"\" + x + \"\\\"\""
   ]
  },
  {
   "cell_type": "code",
   "execution_count": 23,
   "metadata": {},
   "outputs": [
    {
     "name": "stdout",
     "output_type": "stream",
     "text": [
      "import streamlit as st\n",
      "import plotly\n",
      "import plotly.express as px\n",
      "import pandas as pd\n",
      "import json\n",
      "def app():\n",
      "    query_id =\"075d7fe8-74d0-458d-a608-a04e348b225f\"\n",
      "    df = pd.read_json(f\"https://api.flipsidecrypto.com/api/v2/queries/{query_id}/data/latest\",\n",
      "    convert_dates=[\"TIMESTAMP_NTZ\"],\n",
      ")    \n",
      "\n",
      "    t_f = False\n",
      "    st.sidebar.write(\"Choose y-axis scale\")\n",
      "    check = st.sidebar.checkbox(\"Linear/Log\")\n",
      "    if check: \n",
      "        t_f = True\n",
      "    df = px.bar(df, x = \"DAYZ\" , y = \"COUNT(DISTINCT(SENDER))\" , title = \"kgjf\" , orientation = \"v\" , template = \"plotly_white\" ,  width = 1000, height = 600, log_y = t_f)\n",
      "    st.plotly_chart(df)\n",
      "\n"
     ]
    }
   ],
   "source": [
    "init_imports = '''import streamlit as st\n",
    "import plotly\n",
    "import plotly.express as px\n",
    "import pandas as pd\n",
    "import json\n",
    "def app():\n",
    "'''\n",
    "toss_query = \"    query_id =\" + \"\\\"\" + query_id +  \"\\\"\"\n",
    "query_parser  = '''\n",
    "    df = pd.read_json(f\"https://api.flipsidecrypto.com/api/v2/queries/{query_id}/data/latest\",\n",
    "    convert_dates=[\"TIMESTAMP_NTZ\"],\n",
    ")    \n",
    "'''\n",
    "tf_thing = '''\n",
    "    t_f = False\n",
    "    st.sidebar.write(\"Choose y-axis scale\")\n",
    "    check = st.sidebar.checkbox(\"Linear/Log\")\n",
    "    if check: \n",
    "        t_f = True\n",
    "'''\n",
    "plot = '''\n",
    "    st.plotly_chart(df)\n",
    "'''\n",
    "chart_template = \"    df = px.\" + chart_type +\"(\" \"df, \" + \"x = \" + \"\\\"\" + x + \"\\\"\" + \" , \" + \"y = \" + \"\\\"\" + y + \"\\\"\" + \" , \"+\"title = \" + \"\\\"\" + title + \"\\\"\" + \" , \" \"orientation = \" +\"\\\"\" + \"v\"+ \"\\\"\" + \" , \"+ \"template = \" + \"\\\"\" + \"plotly_white\" + \"\\\"\" + \" , \" + \" width = 1000, height = 600, log_y = t_f)\"\n",
    "sd = init_imports + toss_query + query_parser + tf_thing + chart_template + plot\n",
    "print(sd)\n",
    "# with open(\"extra/file1.py\") as f:\n",
    "#     lines = f.readlines()\n",
    "# with open(\"extra/file1.py\", \"w\") as f:\n",
    "#     lines.insert(0, sd)\n",
    "#     f.write(\"\\n\".join(lines))\n",
    "\n",
    "\n"
   ]
  },
  {
   "cell_type": "code",
   "execution_count": 24,
   "metadata": {},
   "outputs": [
    {
     "ename": "FileNotFoundError",
     "evalue": "[Errno 2] No such file or directory: 'extra/file3.py'",
     "output_type": "error",
     "traceback": [
      "\u001b[1;31m---------------------------------------------------------------------------\u001b[0m",
      "\u001b[1;31mFileNotFoundError\u001b[0m                         Traceback (most recent call last)",
      "\u001b[1;32m~\\AppData\\Local\\Temp/ipykernel_15552/2033648631.py\u001b[0m in \u001b[0;36m<module>\u001b[1;34m\u001b[0m\n\u001b[0;32m     51\u001b[0m \u001b[1;33m\u001b[0m\u001b[0m\n\u001b[0;32m     52\u001b[0m         app['function']()'''\n\u001b[1;32m---> 53\u001b[1;33m \u001b[1;32mwith\u001b[0m \u001b[0mopen\u001b[0m\u001b[1;33m(\u001b[0m\u001b[1;34m\"extra/file3.py\"\u001b[0m\u001b[1;33m)\u001b[0m \u001b[1;32mas\u001b[0m \u001b[0mf\u001b[0m\u001b[1;33m:\u001b[0m\u001b[1;33m\u001b[0m\u001b[1;33m\u001b[0m\u001b[0m\n\u001b[0m\u001b[0;32m     54\u001b[0m     \u001b[0mlines\u001b[0m \u001b[1;33m=\u001b[0m \u001b[0mf\u001b[0m\u001b[1;33m.\u001b[0m\u001b[0mreadlines\u001b[0m\u001b[1;33m(\u001b[0m\u001b[1;33m)\u001b[0m\u001b[1;33m\u001b[0m\u001b[1;33m\u001b[0m\u001b[0m\n\u001b[0;32m     55\u001b[0m \u001b[1;32mwith\u001b[0m \u001b[0mopen\u001b[0m\u001b[1;33m(\u001b[0m\u001b[1;34m\"extra/file3.py\"\u001b[0m\u001b[1;33m,\u001b[0m \u001b[1;34m\"w\"\u001b[0m\u001b[1;33m)\u001b[0m \u001b[1;32mas\u001b[0m \u001b[0mf\u001b[0m\u001b[1;33m:\u001b[0m\u001b[1;33m\u001b[0m\u001b[1;33m\u001b[0m\u001b[0m\n",
      "\u001b[1;31mFileNotFoundError\u001b[0m: [Errno 2] No such file or directory: 'extra/file3.py'"
     ]
    }
   ],
   "source": [
    "multiapp_setup = '''import streamlit as st\n",
    "import plotly\n",
    "import plotly.express as px\n",
    "import pandas as pd\n",
    "import json\n",
    "\"\"\"Frameworks for running multiple Streamlit applications as a single app.\n",
    "\"\"\"\n",
    "\n",
    "class MultiApp:\n",
    "    \"\"\"Framework for combining multiple streamlit applications.\n",
    "    Usage:\n",
    "        def foo():\n",
    "            st.title(\"Hello Foo\")\n",
    "        def bar():\n",
    "            st.title(\"Hello Bar\")\n",
    "        app = MultiApp()\n",
    "        app.add_app(\"Foo\", foo)\n",
    "        app.add_app(\"Bar\", bar)\n",
    "        app.run()\n",
    "    It is also possible keep each application in a separate file.\n",
    "        import foo\n",
    "        import bar\n",
    "        app = MultiApp()\n",
    "        app.add_app(\"Foo\", foo.app)\n",
    "        app.add_app(\"Bar\", bar.app)\n",
    "        app.run()\n",
    "    \"\"\"\n",
    "    def __init__(self):\n",
    "        self.apps = []\n",
    "\n",
    "    def add_app(self, title, func):\n",
    "        \"\"\"Adds a new application.\n",
    "        Parameters\n",
    "        ----------\n",
    "        func:\n",
    "            the python function to render this app.\n",
    "        title:\n",
    "            title of the app. Appears in the dropdown in the sidebar.\n",
    "        \"\"\"\n",
    "        self.apps.append({\n",
    "            \"title\": title,\n",
    "            \"function\": func\n",
    "        })\n",
    "\n",
    "    def run(self):\n",
    "        # app = st.sidebar.radio(\n",
    "        app = st.selectbox(\n",
    "            'Navigation, select your query',\n",
    "            self.apps,\n",
    "            format_func=lambda app: app['title'])\n",
    "\n",
    "        app['function']()'''\n",
    "with open(\"extra/file3.py\") as f:\n",
    "    lines = f.readlines()\n",
    "with open(\"extra/file3.py\", \"w\") as f:\n",
    "    lines.insert(0, multiapp_setup)\n",
    "    f.write(\"\\n\".join(lines))"
   ]
  },
  {
   "cell_type": "code",
   "execution_count": null,
   "metadata": {},
   "outputs": [],
   "source": [
    "# save_path = '/massnomisweb/'\n",
    "# file_name = \"test.txt\"\n",
    "\n",
    "# completeName = os.path.join(save_path, file_name)\n",
    "# print(completeName)"
   ]
  },
  {
   "cell_type": "code",
   "execution_count": null,
   "metadata": {},
   "outputs": [],
   "source": []
  }
 ],
 "metadata": {
  "interpreter": {
   "hash": "8b8334dab9339717f727a1deaf837b322d7a41c20d15cc86be99a8e69ceec8ce"
  },
  "kernelspec": {
   "display_name": "Python 3.8.12 64-bit ('3.8.12': pyenv)",
   "language": "python",
   "name": "python3"
  },
  "language_info": {
   "codemirror_mode": {
    "name": "ipython",
    "version": 3
   },
   "file_extension": ".py",
   "mimetype": "text/x-python",
   "name": "python",
   "nbconvert_exporter": "python",
   "pygments_lexer": "ipython3",
   "version": "3.10.0"
  },
  "orig_nbformat": 4
 },
 "nbformat": 4,
 "nbformat_minor": 2
}
